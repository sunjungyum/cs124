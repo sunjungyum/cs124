{
 "cells": [
  {
   "cell_type": "code",
   "execution_count": 1,
   "metadata": {},
   "outputs": [],
   "source": [
    "def printNeatly(words, size, M):\n",
    "    # Initialize all arrays\n",
    "    linePen = [[0 for i in range(size+1)] for j in range(size+1)]\n",
    "    space = [[0 for i in range(size+1)] for j in range(size+1)]\n",
    "    minPen = [float(\"inf\")] * (size+1)\n",
    "    indices = [0] * (size+1)\n",
    "    \n",
    "    # Identify empty space at the end of a line for any i and j\n",
    "    for i in range(1, size+1):\n",
    "        space[i][i] = M - len(words[i-1])\n",
    "        for j in range(i+1,size+1):\n",
    "            space[i][j] = space[i][j-1] - len(words[j-1]) - 1\n",
    "        \n",
    "        \n",
    "    # Identify line penalty for any i and j\n",
    "    for i in range(1,size+1):\n",
    "        for j in range(1,size+1):\n",
    "            if space[i][j] < 0:\n",
    "                linePen[i][j] = float(\"inf\")\n",
    "            elif j == size:\n",
    "                linePen[i][j] = 0\n",
    "            else:\n",
    "                linePen[i][j] = space[i][j]**3\n",
    "    \n",
    "    # Idenitfy minimum penalty\n",
    "    minPen[0] = 0\n",
    "    for n in range(1,size+1):\n",
    "        for k in range(1,n+1):\n",
    "            temp = minPen[k-1] + linePen[k][n]\n",
    "            if temp < minPen[n]:\n",
    "                minPen[n] = temp\n",
    "                indices[n] = k\n",
    "    \n",
    "    return indices, minPen[n]"
   ]
  },
  {
   "cell_type": "code",
   "execution_count": 17,
   "metadata": {},
   "outputs": [],
   "source": [
    "def reprint(words, indices, size):\n",
    "    num = 1\n",
    "    if indices[size] != 1:\n",
    "        num = reprint(words, indices, indices[size]-1)\n",
    "    print(' '.join(words[indices[size]-1:size]))\n",
    "    return num"
   ]
  },
  {
   "cell_type": "code",
   "execution_count": 21,
   "metadata": {},
   "outputs": [
    {
     "name": "stdout",
     "output_type": "stream",
     "text": [
      "Minimum penalty for M=40: 2183\n",
      "Buffy the Vampire Slayer fans are\n",
      "sure to get their fix with the DVD\n",
      "release of the show's first season.\n",
      "The three-disc collection includes all\n",
      "12 episodes as well as many extras.\n",
      "There is a collection of interviews\n",
      "by the show's creator Joss Whedon in\n",
      "which he explains his inspiration for\n",
      "the show as well as comments on the\n",
      "various cast members. Much of the same\n",
      "material is covered in more depth with\n",
      "Whedon's commentary track for the show's\n",
      "first two episodes that make up the\n",
      "Buffy the Vampire Slayer pilot. The\n",
      "most interesting points of Whedon's\n",
      "commentary come from his explanation\n",
      "of the learning curve he encountered\n",
      "shifting from blockbuster films like Toy\n",
      "Story to a much lower-budget television\n",
      "series. The first disc also includes\n",
      "a short interview with David Boreanaz\n",
      "who plays the role of Angel. Other\n",
      "features include the script for the\n",
      "pilot episodes, a trailer, a large photo\n",
      "gallery of publicity shots and in-depth\n",
      "biographies of Whedon and several of the\n",
      "show's stars, including Sarah Michelle\n",
      "Gellar, Alyson Hannigan and Nicholas\n",
      "Brendon.\n",
      "\n",
      "Minimum penalty for M=72: 2104\n",
      "Buffy the Vampire Slayer fans are sure to get their fix with the\n",
      "DVD release of the show's first season. The three-disc collection\n",
      "includes all 12 episodes as well as many extras. There is a collection\n",
      "of interviews by the show's creator Joss Whedon in which he explains\n",
      "his inspiration for the show as well as comments on the various cast\n",
      "members. Much of the same material is covered in more depth with\n",
      "Whedon's commentary track for the show's first two episodes that make\n",
      "up the Buffy the Vampire Slayer pilot. The most interesting points of\n",
      "Whedon's commentary come from his explanation of the learning curve\n",
      "he encountered shifting from blockbuster films like Toy Story to a\n",
      "much lower-budget television series. The first disc also includes a\n",
      "short interview with David Boreanaz who plays the role of Angel. Other\n",
      "features include the script for the pilot episodes, a trailer, a large\n",
      "photo gallery of publicity shots and in-depth biographies of Whedon and\n",
      "several of the show's stars, including Sarah Michelle Gellar, Alyson\n",
      "Hannigan and Nicholas Brendon.\n"
     ]
    }
   ],
   "source": [
    "if __name__ == '__main__':\n",
    "    sample = \"Buffy the Vampire Slayer fans are sure to get their fix with the DVD release of the show's first season. The three-disc collection includes all 12 episodes as well as many extras. There is a collection of interviews by the show's creator Joss Whedon in which he explains his inspiration for the show as well as comments on the various cast members. Much of the same material is covered in more depth with Whedon's commentary track for the show's first two episodes that make up the Buffy the Vampire Slayer pilot. The most interesting points of Whedon's commentary come from his explanation of the learning curve he encountered shifting from blockbuster films like Toy Story to a much lower-budget television series. The first disc also includes a short interview with David Boreanaz who plays the role of Angel. Other features include the script for the pilot episodes, a trailer, a large photo gallery of publicity shots and in-depth biographies of Whedon and several of the show's stars, including Sarah Michelle Gellar, Alyson Hannigan and Nicholas Brendon.\"\n",
    "    words = sample.split()\n",
    "    \n",
    "    indices40, pen40 = printNeatly(words, size, 40)\n",
    "    print(\"Minimum penalty for M=40: \", end=\"\")\n",
    "    print(pen40)\n",
    "    reprint(words, indices40, size)\n",
    "    \n",
    "    print(\"\")\n",
    "    indices72, pen72 = printNeatly(words, size, 72)\n",
    "    print(\"Minimum penalty for M=72: \", end=\"\")\n",
    "    print(pen72)\n",
    "    reprint(words, indices72, size)\n"
   ]
  },
  {
   "cell_type": "code",
   "execution_count": null,
   "metadata": {},
   "outputs": [],
   "source": []
  },
  {
   "cell_type": "code",
   "execution_count": null,
   "metadata": {},
   "outputs": [],
   "source": []
  }
 ],
 "metadata": {
  "kernelspec": {
   "display_name": "Python 3",
   "language": "python",
   "name": "python3"
  },
  "language_info": {
   "codemirror_mode": {
    "name": "ipython",
    "version": 3
   },
   "file_extension": ".py",
   "mimetype": "text/x-python",
   "name": "python",
   "nbconvert_exporter": "python",
   "pygments_lexer": "ipython3",
   "version": "3.8.1"
  }
 },
 "nbformat": 4,
 "nbformat_minor": 4
}
